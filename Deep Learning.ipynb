{
 "cells": [
  {
   "cell_type": "code",
   "execution_count": 1,
   "id": "832ea6d1",
   "metadata": {},
   "outputs": [],
   "source": [
    "# %pip install langdetect\n",
    "# # '721471823', '140549781', '721539264', '587182688', \n",
    "# electronics = ['1474753654', '709776123', '1736740710','604342441','483978365','587182688','665592882','697559735','306029956','721539264','300694285','470905078','643659699','721471823','314022535','377469588','437543077','1805285258','510546422','532711264','140549781','157381628','539083068','1805285258','126787849','959853005','962786054','470905078','656435841','799981023','234718256','486376323','248978541','854767900','665592882','952474190','409693367','332111459','428114216','437543077','740630443','781406220','400599921','733526938','476550098'];\n",
    "# # \"180662484\", \"480662045\", \"125464489\", \"707891158\",\n",
    "# furnitures = [\"518601445\", \"158023133\", \"595719038\", \"282852254\", \"302155545\", \"185414060\", \"1324302745\", \"54189803\", \"640158546\", \"159285775\", \"848352306\", \"572849638\", \"262826724\", \"813538558\", \"139309686\", \"191535084\", \"431459534\", \"340766598\", \"229308835\", \"791037694\", \"812931457\", \"785851050\", \"137210480\", \"346609278\", \"125464489\", \"853963864\", \"810623199\", \"908082959\", \"854857610\", \"751729515\", \"317247193\", \"44801374\", \"614495830\", \"323287217\", \"174354175\", \"524813286\", \"473784671\", \"691486598\", \"975224823\", \"192183497\", \"250185538\", \"549244689\", \"781348788\"];\n",
    "# # \"110950227\",\"635296283\", \"649973380\", \"974015417\",\n",
    "# appliances = [\"53264457\", \"905802633\", \"884160988\", \"966389852\", \"433938236\", \"110950227\", \"285699707\", \"929063007\", \"943385738\", \"35745709\", \"682511182\", \"110900228\", \"589687264\", \"827712890\", \"55566580\", \"20564667\", \"326705962\", \"303905577\", \"657833692\", \"326705962\", \"872653889\", \"305203053\", \"50213889\", \"437474892\", \"834602502\", \"311978538\", \"589687264\", \"381568816\", \"40703590\", \"354341819\", \"448801983\", \"55124372\", \"391691549\", \"46275738\", \"119584067\", \"111488395\", \"844320666\", \"1912769944\", \"311080681\", \"730093825\", \"126311211\", \"39791215\", \"53056868\", \"575389962\", \"828144406\"];\n",
    "# # \"211973277\",\"1268825497\", \"577634258\", \"761302532\",\n",
    "# shoes = [ \"1553604777\", \"1921290300\", \"1941368834\", \"423571604\", \"1701551512\", \"1018782228\", \"831073768\", \"941118745\", \"683549490\", \"1036655927\", \"831073768\", \"528303514\", \"433057502\", \"406604662\", \"211973277\", \"137792855\", \"1167379412\", \"1008314928\", \"636819845\", \"577634258\", \"1218280813\", \"525869238\", \"845598676\", \"1521772813\", \"889893745\", \"216912643\", \"1795254451\", \"641630458\", \"253050123\", \"124232032\", \"836028899\", \"212777326\", \"300652221\", \"3139394337\", \"786339500\", \"564871565\", \"199701514\", \"625309202\", \"107289181\", \"973116993\", \"339999658\", \"154920337\", \"153264839\", \"920582058\", \"1114431589\"];\n",
    "# #  \"1170321319\",\"1968926654\", \"603819432\", \"12443534\",\n",
    "# cosmetics = [ \"749626017\", \"43984058\", \"378245294\", \"43984081\", \"131840078\", \"24520207\", \"712008483\", \"24520391\", \"187729382\", \"760662413\", \"139651604\", \"881358322\", \"49976775\", \"489397757\", \"24520152\", \"11980559\", \"51222493\", \"11980542\" \"184580955\", \"10317031\", \"43984062\", \"48322712\", \"280644180\", \"32635826\", \"603971840\", \"127825573\", \"1682862003\", \"1253286134\", \"486355573\", \"3156344913\", \"225928258\", \"302172502\", \"979063113\", \"2240906478\", \"987026804\", \"1666039730\", \"103569897\", \"465104154\", \"151969783\", \"1336446949\", \"37301756\", \"841040819\", \"3343542591\", \"21129567\", \"460965271\"];\n",
    "# #  \"512547545\",\"770891835\", \"11820039\", \"239077808\",\n",
    "# fitness_equipments = [ \"1446176618\", \"295449025\", \"142195037\", \"405643776\", \"28132535\", \"773202219\", \"611798458\", \"444879693\", \"534784115\", \"447528040\", \"239077808\", \"19866895\", \"733455574\" \"1859467528\", \"39603690\", \"879193181\", \"733455574\", \"1777920198\", \"611798458\", \"444879693\", \"992435845\", \"465166903\", \"486583774\", \"544674524\", \"52890529\", \"615538837\", \"465166903\", \"535333712\", \"776120583\", \"843065428\", \"531042717\", \"11820039\", \"397269506\", \"45612255\", \"321060722\", \"14472194\", \"17363302\", \"1321562233\", \"17272594\", \"51077983\", \"1208886629\", \"1539203280\", \"333054866\", \"1162762778\"];\n"
   ]
  },
  {
   "cell_type": "code",
   "execution_count": 2,
   "id": "07d914d9",
   "metadata": {},
   "outputs": [],
   "source": [
    "# items = electronics + furnitures + appliances + shoes + cosmetics + fitness_equipments;\n",
    "# len(items)"
   ]
  },
  {
   "cell_type": "code",
   "execution_count": 3,
   "id": "b8dd8f56",
   "metadata": {},
   "outputs": [],
   "source": [
    "# import chromedriver_autoinstaller\n",
    "# from selenium.webdriver.common.by import By\n",
    "# from selenium import webdriver\n",
    "\n",
    "# chromedriver_autoinstaller.install() # To update your chromedriver automatically\n",
    "# driver = webdriver.Chrome()\n",
    "\n",
    "# # Get free proxies for rotating\n",
    "# def get_free_proxies(driver):\n",
    "#     driver.get('https://sslproxies.org')\n",
    "\n",
    "#     table = driver.find_element(By.TAG_NAME, 'table')\n",
    "#     thead = table.find_element(By.TAG_NAME, 'thead').find_elements(By.TAG_NAME, 'th')\n",
    "#     tbody = table.find_element(By.TAG_NAME, 'tbody').find_elements(By.TAG_NAME, 'tr')\n",
    "\n",
    "#     headers = []\n",
    "#     for th in thead:\n",
    "#         headers.append(th.text.strip())\n",
    "\n",
    "#     proxies = []\n",
    "#     for tr in tbody:\n",
    "#         proxy_data = {}\n",
    "#         tds = tr.find_elements(By.TAG_NAME, 'td')\n",
    "#         for i in range(len(headers)):\n",
    "#             proxy_data[headers[i]] = tds[i].text.strip()\n",
    "#         proxies.append(proxy_data)\n",
    "    \n",
    "#     return proxies\n",
    "\n",
    "# free_proxies = get_free_proxies(driver);"
   ]
  },
  {
   "cell_type": "code",
   "execution_count": 4,
   "id": "d451a09c",
   "metadata": {},
   "outputs": [],
   "source": [
    "# proxies = []\n",
    "# for proxy in free_proxies:\n",
    "#     proxies.append(str(proxy['IP Address']) + ':' + str(proxy['Port']))"
   ]
  },
  {
   "cell_type": "code",
   "execution_count": 5,
   "id": "35b59469",
   "metadata": {},
   "outputs": [],
   "source": [
    "# import requests\n",
    "# import json\n",
    "\n",
    "# result = [];\n",
    "# for itemId in items:  \n",
    "    \n",
    "#     # set up the request parameters\n",
    "#     params = {\n",
    "#         'api_key': 'E7F88690BB984E60BD6C81EFD1E43138',\n",
    "#         'type': 'reviews',\n",
    "#         'item_id': itemId,\n",
    "#         'page': '1',\n",
    "#         'max_page': '5'\n",
    "#     }\n",
    "\n",
    "#     # make the http GET request to BlueCart API\n",
    "#     api_result = requests.get('https://api.bluecartapi.com/request', params)\n",
    "\n",
    "#     # print the JSON response from BlueCart API\n",
    "#     print(json.dumps(api_result.json()))"
   ]
  },
  {
   "cell_type": "code",
   "execution_count": 6,
   "id": "5e1b3d5f",
   "metadata": {},
   "outputs": [],
   "source": [
    "# from selenium import webdriver\n",
    "# from bs4 import BeautifulSoup\n",
    "# from selenium.webdriver.chrome.options import Options\n",
    "# from time import sleep\n",
    "# import chromedriver_autoinstaller\n",
    "\n",
    "# user_agent = \"Adsbot-Google\";\n",
    "# options = Options();\n",
    "# texts = [];\n",
    "# baseUrl = 'https://www.walmart.com/reviews/product/';\n",
    "\n",
    "# for itemId in items:  \n",
    "#     print(itemId);\n",
    "#     page = 2;\n",
    "#     loop = True;\n",
    "#     proxyIdx = 0;\n",
    "#     while loop: \n",
    "#         try:  \n",
    "#             if(proxyIdx == (len(proxies) - 1)):\n",
    "#                 proxyIdx = 0;\n",
    "#             options.add_argument('--proxy-server={}'.format(proxies[proxyIdx]));\n",
    "#             options.add_argument(\"start-maximized\")\n",
    "#             options.add_experimental_option(\"excludeSwitches\", [\"enable-automation\"])\n",
    "#             options.add_experimental_option('useAutomationExtension', False)\n",
    "#             options.add_argument(f'user-agent={user_agent}');\n",
    "# #             driver = webdriver.safari.webdriver.WebDriver(options=options);\n",
    "# #             chromedriver_autoinstaller.install();\n",
    "#             driver = webdriver.Chrome(options=options)\n",
    "#             driver.get(baseUrl + itemId + '?page=' + str(page));\n",
    "#             content = driver.page_source;\n",
    "#             soup = BeautifulSoup(content);\n",
    "#     #         productName = soup.find(\"a\", {\"class\": \"w_x7ug f6 dark-gray\"}).text.strip();\n",
    "#     #         productName = productName.replace('Back to ', '');\n",
    "#             ul = soup.find(\"ul\", {\"class\": \"cc-3 cg-4 pl0 mt4\"});\n",
    "#             if ul is not None:\n",
    "#                 reviews = ul.find_all('li');\n",
    "#                 for review in reviews:\n",
    "#                     parent = review.find(\"div\", {\"class\": \"f6 mid-gray lh-copy\"});\n",
    "#                     span = parent.find(\"span\", {\"class\": \"tl-m mb3 db-m\"});\n",
    "#                     if span is not None :\n",
    "#                         text = span.text.strip();\n",
    "#                         texts.append(text);\n",
    "#                     else:\n",
    "#                         loop = False; # break the loop as there are no descriptive reviews\n",
    "#                         break;\n",
    "#                 page+=1;\n",
    "#             else:\n",
    "#                 loop = False\n",
    "#             sleep(10);\n",
    "#             proxyIdx+=1;\n",
    "#             driver.quit();\n",
    "#         except:\n",
    "#             proxyIdx+=1;\n",
    "#             driver.quit();\n",
    "#             print('Connection refused');"
   ]
  },
  {
   "cell_type": "code",
   "execution_count": 7,
   "id": "24d72923",
   "metadata": {},
   "outputs": [],
   "source": [
    "# dataset.to_csv('DL_dataset.csv', mode='a', header=not os.path.exists('DL_dataset.csv'));"
   ]
  },
  {
   "cell_type": "code",
   "execution_count": 8,
   "id": "405d9997",
   "metadata": {},
   "outputs": [
    {
     "name": "stdout",
     "output_type": "stream",
     "text": [
      "texts    16\n",
      "dtype: int64\n"
     ]
    },
    {
     "data": {
      "text/html": [
       "<div>\n",
       "<style scoped>\n",
       "    .dataframe tbody tr th:only-of-type {\n",
       "        vertical-align: middle;\n",
       "    }\n",
       "\n",
       "    .dataframe tbody tr th {\n",
       "        vertical-align: top;\n",
       "    }\n",
       "\n",
       "    .dataframe thead th {\n",
       "        text-align: right;\n",
       "    }\n",
       "</style>\n",
       "<table border=\"1\" class=\"dataframe\">\n",
       "  <thead>\n",
       "    <tr style=\"text-align: right;\">\n",
       "      <th></th>\n",
       "      <th>texts</th>\n",
       "    </tr>\n",
       "  </thead>\n",
       "  <tbody>\n",
       "    <tr>\n",
       "      <th>0</th>\n",
       "      <td>We received the phones earlier than what was p...</td>\n",
       "    </tr>\n",
       "    <tr>\n",
       "      <th>1</th>\n",
       "      <td>Ordered on 11.27.2020 and received by 12.02.20...</td>\n",
       "    </tr>\n",
       "    <tr>\n",
       "      <th>2</th>\n",
       "      <td>I love my phone but didnt come with charger bl...</td>\n",
       "    </tr>\n",
       "    <tr>\n",
       "      <th>3</th>\n",
       "      <td>I love this phone!!! It is exactly what I want...</td>\n",
       "    </tr>\n",
       "    <tr>\n",
       "      <th>4</th>\n",
       "      <td>Great price . Came within 2 day delivery .</td>\n",
       "    </tr>\n",
       "    <tr>\n",
       "      <th>...</th>\n",
       "      <td>...</td>\n",
       "    </tr>\n",
       "    <tr>\n",
       "      <th>5950</th>\n",
       "      <td>I like iPad</td>\n",
       "    </tr>\n",
       "    <tr>\n",
       "      <th>5951</th>\n",
       "      <td>Amazing</td>\n",
       "    </tr>\n",
       "    <tr>\n",
       "      <th>5952</th>\n",
       "      <td>The battery overheated on this it’s 4 1/2 mont...</td>\n",
       "    </tr>\n",
       "    <tr>\n",
       "      <th>5953</th>\n",
       "      <td>For now the 9th Generation only goes up to IOS...</td>\n",
       "    </tr>\n",
       "    <tr>\n",
       "      <th>5954</th>\n",
       "      <td>A</td>\n",
       "    </tr>\n",
       "  </tbody>\n",
       "</table>\n",
       "<p>5955 rows × 1 columns</p>\n",
       "</div>"
      ],
      "text/plain": [
       "                                                  texts\n",
       "0     We received the phones earlier than what was p...\n",
       "1     Ordered on 11.27.2020 and received by 12.02.20...\n",
       "2     I love my phone but didnt come with charger bl...\n",
       "3     I love this phone!!! It is exactly what I want...\n",
       "4            Great price . Came within 2 day delivery .\n",
       "...                                                 ...\n",
       "5950                                        I like iPad\n",
       "5951                                            Amazing\n",
       "5952  The battery overheated on this it’s 4 1/2 mont...\n",
       "5953  For now the 9th Generation only goes up to IOS...\n",
       "5954                                                  A\n",
       "\n",
       "[5955 rows x 1 columns]"
      ]
     },
     "execution_count": 8,
     "metadata": {},
     "output_type": "execute_result"
    }
   ],
   "source": [
    "import pandas as pd\n",
    "\n",
    "df = pd.read_csv('NLP_dataset.csv');\n",
    "print(df.isna().sum());\n",
    "df"
   ]
  },
  {
   "cell_type": "code",
   "execution_count": 9,
   "id": "1d1526c9",
   "metadata": {},
   "outputs": [
    {
     "data": {
      "text/plain": [
       "texts    16\n",
       "dtype: int64"
      ]
     },
     "execution_count": 9,
     "metadata": {},
     "output_type": "execute_result"
    }
   ],
   "source": [
    "df.isnull().sum()"
   ]
  },
  {
   "cell_type": "code",
   "execution_count": 10,
   "id": "369becf9",
   "metadata": {},
   "outputs": [],
   "source": [
    "df.dropna(inplace=True)"
   ]
  },
  {
   "cell_type": "markdown",
   "id": "dbbd3011",
   "metadata": {},
   "source": [
    "# Data Preprocessing"
   ]
  },
  {
   "cell_type": "code",
   "execution_count": 11,
   "id": "218ad043",
   "metadata": {
    "scrolled": true
   },
   "outputs": [],
   "source": [
    "# pip install emoji"
   ]
  },
  {
   "cell_type": "code",
   "execution_count": 12,
   "id": "cdc497b1",
   "metadata": {},
   "outputs": [],
   "source": [
    "# We remove HTML tags, URLs and non-alphanumeric characters from the dataset using regex functions. \n",
    "# Stopwords (commonly used words like ‘and’, ‘the’, ‘at’ that do not hold any special meaning in a sentence) \n",
    "# are also removed from the corpus using the nltk stopwords list :\n",
    "\n",
    "import re\n",
    "import emoji\n",
    "\n",
    "def remove_tags(string):\n",
    "    removelist = \"\"\n",
    "    result = re.sub(r'<.*?>','',string)        #remove HTML tags\n",
    "    result = re.sub('https://.*','',result)   #remove URLs\n",
    "    result = re.sub(\"[\\W_]\", \" \", result)    #remove non-alphanumeric characters \n",
    "    result = re.sub(r'[^\\w\\s]', '', result) #remove punctuation\n",
    "    result = emoji.demojize(result) #convert emojis to it's text\n",
    "    result = result.lower() # lowercase text\n",
    "    return result\n",
    "newdf_cl = df.copy();\n",
    "newdf_cl['texts'] = df['texts'].apply(lambda cw : remove_tags(cw)) \n"
   ]
  },
  {
   "cell_type": "code",
   "execution_count": 13,
   "id": "5c4fda67",
   "metadata": {},
   "outputs": [
    {
     "data": {
      "text/html": [
       "<div>\n",
       "<style scoped>\n",
       "    .dataframe tbody tr th:only-of-type {\n",
       "        vertical-align: middle;\n",
       "    }\n",
       "\n",
       "    .dataframe tbody tr th {\n",
       "        vertical-align: top;\n",
       "    }\n",
       "\n",
       "    .dataframe thead th {\n",
       "        text-align: right;\n",
       "    }\n",
       "</style>\n",
       "<table border=\"1\" class=\"dataframe\">\n",
       "  <thead>\n",
       "    <tr style=\"text-align: right;\">\n",
       "      <th></th>\n",
       "      <th>texts</th>\n",
       "    </tr>\n",
       "  </thead>\n",
       "  <tbody>\n",
       "    <tr>\n",
       "      <th>0</th>\n",
       "      <td>we received the phones earlier than what was p...</td>\n",
       "    </tr>\n",
       "    <tr>\n",
       "      <th>1</th>\n",
       "      <td>ordered on 11 27 2020 and received by 12 02 20...</td>\n",
       "    </tr>\n",
       "    <tr>\n",
       "      <th>2</th>\n",
       "      <td>i love my phone but didnt come with charger bl...</td>\n",
       "    </tr>\n",
       "    <tr>\n",
       "      <th>3</th>\n",
       "      <td>i love this phone    it is exactly what i want...</td>\n",
       "    </tr>\n",
       "    <tr>\n",
       "      <th>4</th>\n",
       "      <td>great price   came within 2 day delivery</td>\n",
       "    </tr>\n",
       "    <tr>\n",
       "      <th>...</th>\n",
       "      <td>...</td>\n",
       "    </tr>\n",
       "    <tr>\n",
       "      <th>5950</th>\n",
       "      <td>i like ipad</td>\n",
       "    </tr>\n",
       "    <tr>\n",
       "      <th>5951</th>\n",
       "      <td>amazing</td>\n",
       "    </tr>\n",
       "    <tr>\n",
       "      <th>5952</th>\n",
       "      <td>the battery overheated on this it s 4 1 2 mont...</td>\n",
       "    </tr>\n",
       "    <tr>\n",
       "      <th>5953</th>\n",
       "      <td>for now the 9th generation only goes up to ios...</td>\n",
       "    </tr>\n",
       "    <tr>\n",
       "      <th>5954</th>\n",
       "      <td>a</td>\n",
       "    </tr>\n",
       "  </tbody>\n",
       "</table>\n",
       "<p>5939 rows × 1 columns</p>\n",
       "</div>"
      ],
      "text/plain": [
       "                                                  texts\n",
       "0     we received the phones earlier than what was p...\n",
       "1     ordered on 11 27 2020 and received by 12 02 20...\n",
       "2     i love my phone but didnt come with charger bl...\n",
       "3     i love this phone    it is exactly what i want...\n",
       "4            great price   came within 2 day delivery  \n",
       "...                                                 ...\n",
       "5950                                        i like ipad\n",
       "5951                                            amazing\n",
       "5952  the battery overheated on this it s 4 1 2 mont...\n",
       "5953  for now the 9th generation only goes up to ios...\n",
       "5954                                                  a\n",
       "\n",
       "[5939 rows x 1 columns]"
      ]
     },
     "execution_count": 13,
     "metadata": {},
     "output_type": "execute_result"
    }
   ],
   "source": [
    "newdf_cl"
   ]
  },
  {
   "cell_type": "code",
   "execution_count": 14,
   "id": "b8f581c5",
   "metadata": {},
   "outputs": [],
   "source": [
    "# nltk.download('stopwords')\n",
    "from nltk.corpus import stopwords\n",
    "stop_words = set(stopwords.words('english'))\n",
    "# We remove negation words in list of stopwords\n",
    "no_stopwords = [\"not\",\"don't\",'aren','don','ain',\"aren't\", 'couldn', \"couldn't\", 'didn', \"didn't\", 'doesn', \"doesn't\", 'hadn', \"hadn't\", 'hasn', \"hasn't\", 'haven', \"haven't\", 'isn', \"isn't\",\n",
    "               'ma', 'mightn', \"mightn't\", 'mustn', \"mustn't\", 'needn', \"needn't\", 'shan', \"shan't\", 'shouldn', \"shouldn't\", 'wasn', \"wasn't\", 'weren', \"weren't\",\n",
    "               \"won't\", 'wouldn', \"wouldn't\"]\n",
    "for no_stopword in no_stopwords:\n",
    "    stop_words.remove(no_stopword)\n",
    "newdf_cl['texts'] = newdf_cl['texts'].apply(lambda x: ' '.join([word for word in x.split() if word not in (stop_words)]))"
   ]
  },
  {
   "cell_type": "code",
   "execution_count": 15,
   "id": "27e2881d",
   "metadata": {},
   "outputs": [
    {
     "data": {
      "text/html": [
       "<div>\n",
       "<style scoped>\n",
       "    .dataframe tbody tr th:only-of-type {\n",
       "        vertical-align: middle;\n",
       "    }\n",
       "\n",
       "    .dataframe tbody tr th {\n",
       "        vertical-align: top;\n",
       "    }\n",
       "\n",
       "    .dataframe thead th {\n",
       "        text-align: right;\n",
       "    }\n",
       "</style>\n",
       "<table border=\"1\" class=\"dataframe\">\n",
       "  <thead>\n",
       "    <tr style=\"text-align: right;\">\n",
       "      <th></th>\n",
       "      <th>texts</th>\n",
       "    </tr>\n",
       "  </thead>\n",
       "  <tbody>\n",
       "    <tr>\n",
       "      <th>0</th>\n",
       "      <td>received phones earlier projected great opened...</td>\n",
       "    </tr>\n",
       "    <tr>\n",
       "      <th>1</th>\n",
       "      <td>ordered 11 27 2020 received 12 02 2020 far goo...</td>\n",
       "    </tr>\n",
       "    <tr>\n",
       "      <th>2</th>\n",
       "      <td>love phone didnt come charger block way expect...</td>\n",
       "    </tr>\n",
       "    <tr>\n",
       "      <th>3</th>\n",
       "      <td>love phone exactly wanted didn already would buy</td>\n",
       "    </tr>\n",
       "    <tr>\n",
       "      <th>4</th>\n",
       "      <td>great price came within 2 day delivery</td>\n",
       "    </tr>\n",
       "    <tr>\n",
       "      <th>...</th>\n",
       "      <td>...</td>\n",
       "    </tr>\n",
       "    <tr>\n",
       "      <th>5950</th>\n",
       "      <td>like ipad</td>\n",
       "    </tr>\n",
       "    <tr>\n",
       "      <th>5951</th>\n",
       "      <td>amazing</td>\n",
       "    </tr>\n",
       "    <tr>\n",
       "      <th>5952</th>\n",
       "      <td>battery overheated 4 1 2 months old got hot be...</td>\n",
       "    </tr>\n",
       "    <tr>\n",
       "      <th>5953</th>\n",
       "      <td>9th generation goes ios 15 7 could not restore...</td>\n",
       "    </tr>\n",
       "    <tr>\n",
       "      <th>5954</th>\n",
       "      <td></td>\n",
       "    </tr>\n",
       "  </tbody>\n",
       "</table>\n",
       "<p>5939 rows × 1 columns</p>\n",
       "</div>"
      ],
      "text/plain": [
       "                                                  texts\n",
       "0     received phones earlier projected great opened...\n",
       "1     ordered 11 27 2020 received 12 02 2020 far goo...\n",
       "2     love phone didnt come charger block way expect...\n",
       "3      love phone exactly wanted didn already would buy\n",
       "4                great price came within 2 day delivery\n",
       "...                                                 ...\n",
       "5950                                          like ipad\n",
       "5951                                            amazing\n",
       "5952  battery overheated 4 1 2 months old got hot be...\n",
       "5953  9th generation goes ios 15 7 could not restore...\n",
       "5954                                                   \n",
       "\n",
       "[5939 rows x 1 columns]"
      ]
     },
     "execution_count": 15,
     "metadata": {},
     "output_type": "execute_result"
    }
   ],
   "source": [
    "newdf_cl"
   ]
  },
  {
   "cell_type": "code",
   "execution_count": 16,
   "id": "a0cb71d5",
   "metadata": {},
   "outputs": [],
   "source": [
    "# nltk.download('wordnet')\n",
    "# nltk.download('omw-1.4')\n",
    "from nltk.tokenize import WhitespaceTokenizer\n",
    "from nltk.stem import WordNetLemmatizer\n",
    "\n",
    "# Create a reference variable for Class WhitespaceTokenizer\n",
    "tk = WhitespaceTokenizer()\n",
    "lemmatizer = WordNetLemmatizer()\n",
    "\n",
    "def lemmatize_text(review):\n",
    "    st = \"\"\n",
    "    for w in tk.tokenize(review):\n",
    "        st = st + lemmatizer.lemmatize(w) + \" \"\n",
    "    return st\n",
    "newdf_cl['texts'] = newdf_cl['texts'].apply(lambda txt : lemmatize_text(txt))"
   ]
  },
  {
   "cell_type": "code",
   "execution_count": 17,
   "id": "d2fed9b4",
   "metadata": {},
   "outputs": [
    {
     "data": {
      "text/html": [
       "<div>\n",
       "<style scoped>\n",
       "    .dataframe tbody tr th:only-of-type {\n",
       "        vertical-align: middle;\n",
       "    }\n",
       "\n",
       "    .dataframe tbody tr th {\n",
       "        vertical-align: top;\n",
       "    }\n",
       "\n",
       "    .dataframe thead th {\n",
       "        text-align: right;\n",
       "    }\n",
       "</style>\n",
       "<table border=\"1\" class=\"dataframe\">\n",
       "  <thead>\n",
       "    <tr style=\"text-align: right;\">\n",
       "      <th></th>\n",
       "      <th>texts</th>\n",
       "    </tr>\n",
       "  </thead>\n",
       "  <tbody>\n",
       "    <tr>\n",
       "      <th>0</th>\n",
       "      <td>received phone earlier projected great opened ...</td>\n",
       "    </tr>\n",
       "    <tr>\n",
       "      <th>1</th>\n",
       "      <td>ordered 11 27 2020 received 12 02 2020 far goo...</td>\n",
       "    </tr>\n",
       "    <tr>\n",
       "      <th>2</th>\n",
       "      <td>love phone didnt come charger block way expect...</td>\n",
       "    </tr>\n",
       "    <tr>\n",
       "      <th>3</th>\n",
       "      <td>love phone exactly wanted didn already would buy</td>\n",
       "    </tr>\n",
       "    <tr>\n",
       "      <th>4</th>\n",
       "      <td>great price came within 2 day delivery</td>\n",
       "    </tr>\n",
       "    <tr>\n",
       "      <th>...</th>\n",
       "      <td>...</td>\n",
       "    </tr>\n",
       "    <tr>\n",
       "      <th>5950</th>\n",
       "      <td>like ipad</td>\n",
       "    </tr>\n",
       "    <tr>\n",
       "      <th>5951</th>\n",
       "      <td>amazing</td>\n",
       "    </tr>\n",
       "    <tr>\n",
       "      <th>5952</th>\n",
       "      <td>battery overheated 4 1 2 month old got hot ben...</td>\n",
       "    </tr>\n",
       "    <tr>\n",
       "      <th>5953</th>\n",
       "      <td>9th generation go io 15 7 could not restore ic...</td>\n",
       "    </tr>\n",
       "    <tr>\n",
       "      <th>5954</th>\n",
       "      <td></td>\n",
       "    </tr>\n",
       "  </tbody>\n",
       "</table>\n",
       "<p>5939 rows × 1 columns</p>\n",
       "</div>"
      ],
      "text/plain": [
       "                                                  texts\n",
       "0     received phone earlier projected great opened ...\n",
       "1     ordered 11 27 2020 received 12 02 2020 far goo...\n",
       "2     love phone didnt come charger block way expect...\n",
       "3     love phone exactly wanted didn already would buy \n",
       "4               great price came within 2 day delivery \n",
       "...                                                 ...\n",
       "5950                                         like ipad \n",
       "5951                                           amazing \n",
       "5952  battery overheated 4 1 2 month old got hot ben...\n",
       "5953  9th generation go io 15 7 could not restore ic...\n",
       "5954                                                   \n",
       "\n",
       "[5939 rows x 1 columns]"
      ]
     },
     "execution_count": 17,
     "metadata": {},
     "output_type": "execute_result"
    }
   ],
   "source": [
    "newdf_cl"
   ]
  },
  {
   "cell_type": "markdown",
   "id": "f82fa1c4",
   "metadata": {},
   "source": [
    "# Data Visualization (Analysis of Reviews length)"
   ]
  },
  {
   "cell_type": "code",
   "execution_count": 18,
   "id": "0db67b0a",
   "metadata": {},
   "outputs": [
    {
     "data": {
      "image/png": "[encoded data removed]",
      "text/plain": [
       "<Figure size 640x480 with 1 Axes>"
      ]
     },
     "metadata": {},
     "output_type": "display_data"
    },
    {
     "data": {
      "text/plain": [
       "count    5939.00000\n",
       "mean       20.17545\n",
       "std        20.24298\n",
       "min         0.00000\n",
       "25%         7.00000\n",
       "50%        14.00000\n",
       "75%        26.00000\n",
       "max       272.00000\n",
       "dtype: float64"
      ]
     },
     "execution_count": 18,
     "metadata": {},
     "output_type": "execute_result"
    }
   ],
   "source": [
    "from collections import Counter\n",
    "import matplotlib.pyplot as plt\n",
    "\n",
    "reviews_split = [text for text in newdf_cl['texts']]\n",
    "\n",
    "# create a list of words\n",
    "words = ''.join(reviews_split).split()\n",
    "\n",
    "# Count all the words using Counter Method\n",
    "count_words = Counter(words)\n",
    "total_words = len(words)\n",
    "sorted_words = count_words.most_common(total_words)\n",
    "vocab_to_int = {w:i+1 for i, (w,c) in enumerate(sorted_words)}\n",
    "\n",
    "reviews_int = []\n",
    "for review in reviews_split:\n",
    "    r = [vocab_to_int[w] for w in review.split()]\n",
    "    reviews_int.append(r)\n",
    "\n",
    "# Analyze Reviews Length\n",
    "reviews_len = [len(x) for x in reviews_int]\n",
    "pd.Series(reviews_len).hist()\n",
    "plt.show()\n",
    "pd.Series(reviews_len).describe()"
   ]
  },
  {
   "cell_type": "markdown",
   "id": "7d6346fb",
   "metadata": {},
   "source": [
    "# Labelling the Output"
   ]
  },
  {
   "cell_type": "code",
   "execution_count": 19,
   "id": "44644965",
   "metadata": {},
   "outputs": [],
   "source": [
    "from nltk.sentiment.vader import SentimentIntensityAnalyzer as STA\n",
    "\n",
    "sia = STA();\n",
    "results = [];\n",
    "for text in newdf_cl['texts']:\n",
    "    if len(text.strip()) > 0: # removing reviews of 0 length\n",
    "        pol_score = sia.polarity_scores(text);\n",
    "        pol_score['review'] = text;\n",
    "        results.append(pol_score);\n",
    "newdf = pd.DataFrame.from_records(results);\n",
    "newdf['label'] = 0;"
   ]
  },
  {
   "cell_type": "code",
   "execution_count": 20,
   "id": "8d1910c5",
   "metadata": {},
   "outputs": [
    {
     "data": {
      "text/html": [
       "<div>\n",
       "<style scoped>\n",
       "    .dataframe tbody tr th:only-of-type {\n",
       "        vertical-align: middle;\n",
       "    }\n",
       "\n",
       "    .dataframe tbody tr th {\n",
       "        vertical-align: top;\n",
       "    }\n",
       "\n",
       "    .dataframe thead th {\n",
       "        text-align: right;\n",
       "    }\n",
       "</style>\n",
       "<table border=\"1\" class=\"dataframe\">\n",
       "  <thead>\n",
       "    <tr style=\"text-align: right;\">\n",
       "      <th></th>\n",
       "      <th>review</th>\n",
       "      <th>label</th>\n",
       "    </tr>\n",
       "  </thead>\n",
       "  <tbody>\n",
       "    <tr>\n",
       "      <th>0</th>\n",
       "      <td>received phone earlier projected great opened ...</td>\n",
       "      <td>1</td>\n",
       "    </tr>\n",
       "    <tr>\n",
       "      <th>1</th>\n",
       "      <td>ordered 11 27 2020 received 12 02 2020 far goo...</td>\n",
       "      <td>1</td>\n",
       "    </tr>\n",
       "    <tr>\n",
       "      <th>2</th>\n",
       "      <td>love phone didnt come charger block way expect...</td>\n",
       "      <td>1</td>\n",
       "    </tr>\n",
       "    <tr>\n",
       "      <th>3</th>\n",
       "      <td>love phone exactly wanted didn already would buy</td>\n",
       "      <td>1</td>\n",
       "    </tr>\n",
       "    <tr>\n",
       "      <th>4</th>\n",
       "      <td>great price came within 2 day delivery</td>\n",
       "      <td>1</td>\n",
       "    </tr>\n",
       "    <tr>\n",
       "      <th>...</th>\n",
       "      <td>...</td>\n",
       "      <td>...</td>\n",
       "    </tr>\n",
       "    <tr>\n",
       "      <th>5933</th>\n",
       "      <td>daughter love</td>\n",
       "      <td>1</td>\n",
       "    </tr>\n",
       "    <tr>\n",
       "      <th>5934</th>\n",
       "      <td>like ipad</td>\n",
       "      <td>1</td>\n",
       "    </tr>\n",
       "    <tr>\n",
       "      <th>5935</th>\n",
       "      <td>amazing</td>\n",
       "      <td>1</td>\n",
       "    </tr>\n",
       "    <tr>\n",
       "      <th>5936</th>\n",
       "      <td>battery overheated 4 1 2 month old got hot ben...</td>\n",
       "      <td>0</td>\n",
       "    </tr>\n",
       "    <tr>\n",
       "      <th>5937</th>\n",
       "      <td>9th generation go io 15 7 could not restore ic...</td>\n",
       "      <td>-1</td>\n",
       "    </tr>\n",
       "  </tbody>\n",
       "</table>\n",
       "<p>5938 rows × 2 columns</p>\n",
       "</div>"
      ],
      "text/plain": [
       "                                                 review  label\n",
       "0     received phone earlier projected great opened ...      1\n",
       "1     ordered 11 27 2020 received 12 02 2020 far goo...      1\n",
       "2     love phone didnt come charger block way expect...      1\n",
       "3     love phone exactly wanted didn already would buy       1\n",
       "4               great price came within 2 day delivery       1\n",
       "...                                                 ...    ...\n",
       "5933                                     daughter love       1\n",
       "5934                                         like ipad       1\n",
       "5935                                           amazing       1\n",
       "5936  battery overheated 4 1 2 month old got hot ben...      0\n",
       "5937  9th generation go io 15 7 could not restore ic...     -1\n",
       "\n",
       "[5938 rows x 2 columns]"
      ]
     },
     "execution_count": 20,
     "metadata": {},
     "output_type": "execute_result"
    }
   ],
   "source": [
    "newdf.loc[newdf['compound'] > 0, 'label'] = 1;\n",
    "newdf.loc[newdf['compound'] < 0, 'label'] = -1;\n",
    "newdf = newdf[['review', 'label']];\n",
    "newdf"
   ]
  },
  {
   "cell_type": "code",
   "execution_count": 21,
   "id": "3ec25b9d",
   "metadata": {},
   "outputs": [
    {
     "data": {
      "text/plain": [
       " 1    4610\n",
       "-1     902\n",
       " 0     426\n",
       "Name: label, dtype: int64"
      ]
     },
     "execution_count": 21,
     "metadata": {},
     "output_type": "execute_result"
    }
   ],
   "source": [
    "newdf.label.value_counts()"
   ]
  },
  {
   "cell_type": "code",
   "execution_count": 22,
   "id": "855d7210",
   "metadata": {},
   "outputs": [
    {
     "data": {
      "text/plain": [
       "<AxesSubplot:xlabel='label'>"
      ]
     },
     "execution_count": 22,
     "metadata": {},
     "output_type": "execute_result"
    },
    {
     "data": {
      "image/png": "[encoded data removed]",
      "text/plain": [
       "<Figure size 640x480 with 1 Axes>"
      ]
     },
     "metadata": {},
     "output_type": "display_data"
    }
   ],
   "source": [
    "label = newdf.groupby('label')['label'].count();\n",
    "label.plot.bar(rot=0)"
   ]
  },
  {
   "cell_type": "markdown",
   "id": "cd39b813",
   "metadata": {},
   "source": [
    "# BOW (Bag Of Words)"
   ]
  },
  {
   "cell_type": "code",
   "execution_count": 23,
   "id": "2447a1e5",
   "metadata": {},
   "outputs": [],
   "source": [
    "from sklearn.feature_extraction.text import CountVectorizer\n",
    "from nltk.tokenize import RegexpTokenizer\n",
    "\n",
    "cv = CountVectorizer(ngram_range=(1,1))\n",
    "text_counts = cv.fit_transform(newdf['review'])"
   ]
  },
  {
   "cell_type": "code",
   "execution_count": 24,
   "id": "275108f1",
   "metadata": {},
   "outputs": [
    {
     "data": {
      "text/plain": [
       "array([[0, 0, 0, ..., 0, 0, 0],\n",
       "       [0, 0, 0, ..., 0, 0, 0],\n",
       "       [0, 0, 0, ..., 0, 0, 0],\n",
       "       ...,\n",
       "       [0, 0, 0, ..., 0, 0, 0],\n",
       "       [0, 0, 0, ..., 0, 0, 0],\n",
       "       [0, 0, 0, ..., 0, 0, 0]])"
      ]
     },
     "execution_count": 24,
     "metadata": {},
     "output_type": "execute_result"
    }
   ],
   "source": [
    "text_counts.toarray()"
   ]
  },
  {
   "cell_type": "code",
   "execution_count": 25,
   "id": "37a7bb74",
   "metadata": {},
   "outputs": [],
   "source": [
    "from imblearn.over_sampling import SMOTE\n",
    "\n",
    "smote = SMOTE(random_state=42)\n",
    "X_smote, y_smote = smote.fit_resample(text_counts, newdf['label'])"
   ]
  },
  {
   "cell_type": "code",
   "execution_count": 26,
   "id": "a3b26415",
   "metadata": {},
   "outputs": [
    {
     "data": {
      "text/plain": [
       "Text(0.5, 0, 'label')"
      ]
     },
     "execution_count": 26,
     "metadata": {},
     "output_type": "execute_result"
    },
    {
     "data": {
      "image/png": "[encoded data removed]",
      "text/plain": [
       "<Figure size 640x480 with 1 Axes>"
      ]
     },
     "metadata": {},
     "output_type": "display_data"
    }
   ],
   "source": [
    "graph = y_smote.value_counts().plot.bar(rot=0)\n",
    "graph.set_xlabel('label')"
   ]
  },
  {
   "cell_type": "code",
   "execution_count": 27,
   "id": "a2797510",
   "metadata": {},
   "outputs": [
    {
     "name": "stdout",
     "output_type": "stream",
     "text": [
      "(10372, 7409)\n",
      "(3458, 7409)\n",
      "(10372,)\n",
      "(3458,)\n"
     ]
    }
   ],
   "source": [
    "from sklearn.model_selection import train_test_split\n",
    "\n",
    "X_train, X_test, y_train, y_test = train_test_split(X_smote, y_smote, test_size=0.25, random_state=42, shuffle=True)\n",
    "\n",
    "print(X_train.shape)\n",
    "print(X_test.shape)\n",
    "print(y_train.shape)\n",
    "print(y_test.shape)"
   ]
  },
  {
   "cell_type": "markdown",
   "id": "c6db53b0",
   "metadata": {},
   "source": [
    "# Naive Bayes Classifier"
   ]
  },
  {
   "cell_type": "code",
   "execution_count": 28,
   "id": "b2745717",
   "metadata": {},
   "outputs": [
    {
     "data": {
      "text/plain": [
       "MultinomialNB()"
      ]
     },
     "execution_count": 28,
     "metadata": {},
     "output_type": "execute_result"
    }
   ],
   "source": [
    "from sklearn.naive_bayes import MultinomialNB\n",
    "\n",
    "mnb = MultinomialNB()\n",
    "mnb.fit(X_train, y_train)"
   ]
  },
  {
   "cell_type": "code",
   "execution_count": 29,
   "id": "de5723d2",
   "metadata": {},
   "outputs": [],
   "source": [
    "predicted = mnb.predict(X_test)"
   ]
  },
  {
   "cell_type": "code",
   "execution_count": 30,
   "id": "f37a38a6",
   "metadata": {},
   "outputs": [],
   "source": [
    "from sklearn.metrics import accuracy_score\n",
    "\n",
    "accuracy = accuracy_score(predicted, y_test)"
   ]
  },
  {
   "cell_type": "code",
   "execution_count": 31,
   "id": "eec1c5d2",
   "metadata": {},
   "outputs": [
    {
     "name": "stdout",
     "output_type": "stream",
     "text": [
      "Accuracy - 77.9063042220937\n",
      "\n",
      "              precision    recall  f1-score   support\n",
      "\n",
      "          -1       0.71      0.74      0.72      1164\n",
      "           0       0.79      0.69      0.74      1137\n",
      "           1       0.84      0.91      0.87      1157\n",
      "\n",
      "    accuracy                           0.78      3458\n",
      "   macro avg       0.78      0.78      0.78      3458\n",
      "weighted avg       0.78      0.78      0.78      3458\n",
      "\n"
     ]
    }
   ],
   "source": [
    "from sklearn.metrics import classification_report\n",
    "\n",
    "# detailed classification report\n",
    "print(f'Accuracy - {accuracy * 100}\\n')\n",
    "print(classification_report(y_test, predicted))"
   ]
  },
  {
   "cell_type": "code",
   "execution_count": 32,
   "id": "46b7eac9",
   "metadata": {},
   "outputs": [
    {
     "name": "stdout",
     "output_type": "stream",
     "text": [
      "Accuracy - 57.57663389242337\n",
      "\n",
      "              precision    recall  f1-score   support\n",
      "\n",
      "          -1       0.63      0.22      0.33      1164\n",
      "           0       0.46      0.95      0.62      1137\n",
      "           1       0.92      0.56      0.70      1157\n",
      "\n",
      "    accuracy                           0.58      3458\n",
      "   macro avg       0.67      0.58      0.55      3458\n",
      "weighted avg       0.67      0.58      0.55      3458\n",
      "\n"
     ]
    }
   ],
   "source": [
    "cv = CountVectorizer(ngram_range=(2,2))\n",
    "text_counts = cv.fit_transform(newdf['review'])\n",
    "\n",
    "smote = SMOTE(random_state=42)\n",
    "X_smote, y_smote = smote.fit_resample(text_counts, newdf['label'])\n",
    "X_train, X_test, y_train, y_test = train_test_split(X_smote, y_smote, test_size=0.25, random_state=42, shuffle=True)\n",
    "\n",
    "mnb = MultinomialNB()\n",
    "mnb.fit(X_train, y_train)\n",
    "\n",
    "predicted = mnb.predict(X_test)\n",
    "\n",
    "accuracy = accuracy_score(predicted, y_test)\n",
    "print(f'Accuracy - {accuracy * 100}\\n')\n",
    "print(classification_report(y_test, predicted))"
   ]
  },
  {
   "cell_type": "code",
   "execution_count": 33,
   "id": "a8ec722b",
   "metadata": {},
   "outputs": [
    {
     "name": "stdout",
     "output_type": "stream",
     "text": [
      "Accuracy - 38.43262001156738\n",
      "\n",
      "              precision    recall  f1-score   support\n",
      "\n",
      "          -1       0.75      0.04      0.08      1164\n",
      "           0       0.35      1.00      0.52      1137\n",
      "           1       1.00      0.12      0.22      1157\n",
      "\n",
      "    accuracy                           0.38      3458\n",
      "   macro avg       0.70      0.39      0.27      3458\n",
      "weighted avg       0.70      0.38      0.27      3458\n",
      "\n"
     ]
    }
   ],
   "source": [
    "cv = CountVectorizer(ngram_range=(3,3))\n",
    "text_counts = cv.fit_transform(newdf['review'])\n",
    "\n",
    "smote = SMOTE(random_state=42)\n",
    "X_smote, y_smote = smote.fit_resample(text_counts, newdf['label'])\n",
    "X_train, X_test, y_train, y_test = train_test_split(X_smote, y_smote, test_size=0.25, random_state=42, shuffle=True)\n",
    "\n",
    "mnb = MultinomialNB()\n",
    "mnb.fit(X_train, y_train)\n",
    "\n",
    "predicted = mnb.predict(X_test)\n",
    "\n",
    "accuracy = accuracy_score(predicted, y_test)\n",
    "print(f'Accuracy - {accuracy * 100}\\n')\n",
    "print(classification_report(y_test, predicted))"
   ]
  },
  {
   "cell_type": "code",
   "execution_count": 34,
   "id": "905cca81",
   "metadata": {},
   "outputs": [
    {
     "name": "stdout",
     "output_type": "stream",
     "text": [
      "Accuracy - 69.37536148062465\n",
      "\n",
      "              precision    recall  f1-score   support\n",
      "\n",
      "          -1       0.58      0.89      0.70      1164\n",
      "           0       0.84      0.27      0.41      1137\n",
      "           1       0.81      0.91      0.86      1157\n",
      "\n",
      "    accuracy                           0.69      3458\n",
      "   macro avg       0.74      0.69      0.66      3458\n",
      "weighted avg       0.74      0.69      0.66      3458\n",
      "\n"
     ]
    }
   ],
   "source": [
    "cv = CountVectorizer(ngram_range=(1,1))\n",
    "text_counts = cv.fit_transform(newdf['review'])\n",
    "\n",
    "smote = SMOTE(random_state=42)\n",
    "X_smote, y_smote = smote.fit_resample(text_counts, newdf['label'])\n",
    "X_train, X_test, y_train, y_test = train_test_split(X_smote, y_smote, test_size=0.25, random_state=42, shuffle=True)\n",
    "\n",
    "from sklearn.naive_bayes import ComplementNB\n",
    "\n",
    "cnb = ComplementNB()\n",
    "cnb.fit(X_train, y_train)\n",
    "\n",
    "predicted = cnb.predict(X_test)\n",
    "\n",
    "accuracy = accuracy_score(predicted, y_test)\n",
    "print(f'Accuracy - {accuracy * 100}\\n')\n",
    "print(classification_report(y_test, predicted))"
   ]
  },
  {
   "cell_type": "code",
   "execution_count": 35,
   "id": "2ba21db5",
   "metadata": {},
   "outputs": [
    {
     "name": "stderr",
     "output_type": "stream",
     "text": [
      "/Users/tusharraj/opt/anaconda3/lib/python3.9/site-packages/sklearn/utils/validation.py:593: FutureWarning: np.matrix usage is deprecated in 1.0 and will raise a TypeError in 1.2. Please convert to a numpy array with np.asarray. For more information see: https://numpy.org/doc/stable/reference/generated/numpy.matrix.html\n",
      "  warnings.warn(\n",
      "/Users/tusharraj/opt/anaconda3/lib/python3.9/site-packages/sklearn/utils/validation.py:593: FutureWarning: np.matrix usage is deprecated in 1.0 and will raise a TypeError in 1.2. Please convert to a numpy array with np.asarray. For more information see: https://numpy.org/doc/stable/reference/generated/numpy.matrix.html\n",
      "  warnings.warn(\n"
     ]
    },
    {
     "name": "stdout",
     "output_type": "stream",
     "text": [
      "Accuracy - 64.80624638519376\n",
      "\n",
      "              precision    recall  f1-score   support\n",
      "\n",
      "          -1       0.50      0.40      0.45      1164\n",
      "           0       0.63      0.94      0.76      1137\n",
      "           1       0.85      0.61      0.71      1157\n",
      "\n",
      "    accuracy                           0.65      3458\n",
      "   macro avg       0.66      0.65      0.64      3458\n",
      "weighted avg       0.66      0.65      0.64      3458\n",
      "\n"
     ]
    }
   ],
   "source": [
    "from sklearn.naive_bayes import GaussianNB\n",
    "\n",
    "gnb = GaussianNB()\n",
    "gnb.fit(X_train.todense(), y_train)\n",
    "\n",
    "predicted = gnb.predict(X_test.todense())\n",
    "\n",
    "accuracy = accuracy_score(predicted, y_test)\n",
    "print(f'Accuracy - {accuracy * 100}\\n')\n",
    "print(classification_report(y_test, predicted))"
   ]
  },
  {
   "cell_type": "code",
   "execution_count": 36,
   "id": "3473d4f0",
   "metadata": {},
   "outputs": [
    {
     "name": "stdout",
     "output_type": "stream",
     "text": [
      "Accuracy - 69.17293233082707\n",
      "\n",
      "              precision    recall  f1-score   support\n",
      "\n",
      "          -1       0.60      0.42      0.49      1164\n",
      "           0       0.63      0.95      0.76      1137\n",
      "           1       0.87      0.71      0.79      1157\n",
      "\n",
      "    accuracy                           0.69      3458\n",
      "   macro avg       0.70      0.69      0.68      3458\n",
      "weighted avg       0.70      0.69      0.68      3458\n",
      "\n"
     ]
    }
   ],
   "source": [
    "from sklearn.naive_bayes import BernoulliNB\n",
    "\n",
    "bnb = BernoulliNB()\n",
    "bnb.fit(X_train, y_train)\n",
    "\n",
    "predicted = bnb.predict(X_test)\n",
    "\n",
    "accuracy = accuracy_score(predicted, y_test)\n",
    "print(f'Accuracy - {accuracy * 100}\\n')\n",
    "print(classification_report(y_test, predicted))"
   ]
  },
  {
   "cell_type": "code",
   "execution_count": 37,
   "id": "bfb0675a",
   "metadata": {},
   "outputs": [
    {
     "name": "stdout",
     "output_type": "stream",
     "text": [
      "Accuracy - 92.19201850780799\n",
      "\n",
      "              precision    recall  f1-score   support\n",
      "\n",
      "          -1       0.88      0.94      0.91      1164\n",
      "           0       0.97      0.96      0.97      1137\n",
      "           1       0.92      0.86      0.89      1157\n",
      "\n",
      "    accuracy                           0.92      3458\n",
      "   macro avg       0.92      0.92      0.92      3458\n",
      "weighted avg       0.92      0.92      0.92      3458\n",
      "\n",
      "CNB - 92.65471370734528\n"
     ]
    },
    {
     "name": "stderr",
     "output_type": "stream",
     "text": [
      "/Users/tusharraj/opt/anaconda3/lib/python3.9/site-packages/sklearn/utils/validation.py:593: FutureWarning: np.matrix usage is deprecated in 1.0 and will raise a TypeError in 1.2. Please convert to a numpy array with np.asarray. For more information see: https://numpy.org/doc/stable/reference/generated/numpy.matrix.html\n",
      "  warnings.warn(\n",
      "/Users/tusharraj/opt/anaconda3/lib/python3.9/site-packages/sklearn/utils/validation.py:593: FutureWarning: np.matrix usage is deprecated in 1.0 and will raise a TypeError in 1.2. Please convert to a numpy array with np.asarray. For more information see: https://numpy.org/doc/stable/reference/generated/numpy.matrix.html\n",
      "  warnings.warn(\n"
     ]
    },
    {
     "name": "stdout",
     "output_type": "stream",
     "text": [
      "GNB - 84.61538461538461\n",
      "BNB - 85.33834586466166\n"
     ]
    }
   ],
   "source": [
    "from sklearn.feature_extraction.text import TfidfVectorizer\n",
    "\n",
    "tfidf = TfidfVectorizer()\n",
    "\n",
    "text_counts = tfidf.fit_transform(newdf['review'])\n",
    "smote = SMOTE(random_state=42)\n",
    "X_smote, y_smote = smote.fit_resample(text_counts, newdf['label'])\n",
    "x_train, x_test, Y_train, Y_test = train_test_split(X_smote, y_smote, test_size=0.25, random_state=42, shuffle=True)\n",
    "\n",
    "mnb = MultinomialNB()\n",
    "mnb.fit(x_train, Y_train)\n",
    "predicted = mnb.predict(x_test)\n",
    "accuracy = accuracy_score(predicted, Y_test)\n",
    "print(f'Accuracy - {accuracy * 100}\\n')\n",
    "print(classification_report(Y_test, predicted))\n",
    "\n",
    "cnb = ComplementNB()\n",
    "cnb.fit(x_train, Y_train)\n",
    "predicted = cnb.predict(x_test)\n",
    "accuracy = accuracy_score(predicted, Y_test)\n",
    "print(f'CNB - {accuracy * 100}')\n",
    "\n",
    "gnb = GaussianNB()\n",
    "gnb.fit(x_train.todense(), Y_train)\n",
    "predicted = gnb.predict(x_test.todense())\n",
    "accuracy = accuracy_score(predicted, Y_test)\n",
    "print(f'GNB - {accuracy * 100}')\n",
    "\n",
    "bnb = BernoulliNB()\n",
    "bnb.fit(x_train, Y_train)\n",
    "predicted = bnb.predict(x_test)\n",
    "accuracy = accuracy_score(predicted, Y_test)\n",
    "print(f'BNB - {accuracy * 100}')"
   ]
  },
  {
   "cell_type": "code",
   "execution_count": 38,
   "id": "3b4a5197",
   "metadata": {},
   "outputs": [
    {
     "name": "stdout",
     "output_type": "stream",
     "text": [
      "Accuracy - 97.07923655292076\n",
      "\n",
      "              precision    recall  f1-score   support\n",
      "\n",
      "          -1       0.96      0.99      0.97      1164\n",
      "           0       0.97      1.00      0.98      1137\n",
      "           1       0.99      0.93      0.96      1157\n",
      "\n",
      "    accuracy                           0.97      3458\n",
      "   macro avg       0.97      0.97      0.97      3458\n",
      "weighted avg       0.97      0.97      0.97      3458\n",
      "\n",
      "Accuracy - 96.15384615384616\n",
      "\n",
      "              precision    recall  f1-score   support\n",
      "\n",
      "          -1       0.94      0.97      0.96      1164\n",
      "           0       0.97      1.00      0.98      1137\n",
      "           1       0.98      0.91      0.94      1157\n",
      "\n",
      "    accuracy                           0.96      3458\n",
      "   macro avg       0.96      0.96      0.96      3458\n",
      "weighted avg       0.96      0.96      0.96      3458\n",
      "\n",
      "Accuracy - 83.74783111625217\n",
      "\n",
      "              precision    recall  f1-score   support\n",
      "\n",
      "          -1       0.81      0.72      0.76      1164\n",
      "           0       0.77      0.87      0.82      1137\n",
      "           1       0.94      0.92      0.93      1157\n",
      "\n",
      "    accuracy                           0.84      3458\n",
      "   macro avg       0.84      0.84      0.84      3458\n",
      "weighted avg       0.84      0.84      0.84      3458\n",
      "\n",
      "Accuracy - 83.37189126662811\n",
      "\n",
      "              precision    recall  f1-score   support\n",
      "\n",
      "          -1       0.89      0.62      0.73      1164\n",
      "           0       0.72      0.95      0.82      1137\n",
      "           1       0.94      0.94      0.94      1157\n",
      "\n",
      "    accuracy                           0.83      3458\n",
      "   macro avg       0.85      0.83      0.83      3458\n",
      "weighted avg       0.85      0.83      0.83      3458\n",
      "\n"
     ]
    },
    {
     "name": "stderr",
     "output_type": "stream",
     "text": [
      "/Users/tusharraj/opt/anaconda3/lib/python3.9/site-packages/sklearn/svm/_base.py:1206: ConvergenceWarning: Liblinear failed to converge, increase the number of iterations.\n",
      "  warnings.warn(\n"
     ]
    }
   ],
   "source": [
    "from sklearn.linear_model import SGDClassifier\n",
    "from sklearn.svm import LinearSVC\n",
    "\n",
    "LSVC = LinearSVC()\n",
    "SGDC = SGDClassifier()\n",
    "\n",
    "#TfidfVectorizer\n",
    "LSVC.fit(x_train, Y_train)\n",
    "predicted = LSVC.predict(x_test)\n",
    "print(f'Accuracy - {accuracy_score(predicted, Y_test) * 100}\\n')\n",
    "print(classification_report(Y_test, predicted))\n",
    "\n",
    "SGDC.fit(x_train, Y_train)\n",
    "predicted = SGDC.predict(x_test)\n",
    "print(f'Accuracy - {accuracy_score(predicted, Y_test) * 100}\\n')\n",
    "print(classification_report(Y_test, predicted))\n",
    "\n",
    "#CountVectorizer\n",
    "LSVC.fit(X_train, y_train)\n",
    "predicted = LSVC.predict(X_test)\n",
    "print(f'Accuracy - {accuracy_score(predicted, Y_test) * 100}\\n')\n",
    "print(classification_report(Y_test, predicted))\n",
    "\n",
    "SGDC.fit(X_train, y_train)\n",
    "predicted = SGDC.predict(X_test)\n",
    "print(f'Accuracy - {accuracy_score(predicted, Y_test) * 100}\\n')\n",
    "print(classification_report(Y_test, predicted))"
   ]
  },
  {
   "cell_type": "markdown",
   "id": "6524013e",
   "metadata": {},
   "source": [
    "# SVM (Kernel = Liner)"
   ]
  },
  {
   "cell_type": "code",
   "execution_count": 39,
   "id": "8f385b2b",
   "metadata": {},
   "outputs": [
    {
     "name": "stdout",
     "output_type": "stream",
     "text": [
      "Accuracy - 96.58762290341237\n",
      "\n",
      "              precision    recall  f1-score   support\n",
      "\n",
      "          -1       0.94      0.98      0.96      1164\n",
      "           0       0.98      1.00      0.99      1137\n",
      "           1       0.98      0.92      0.95      1157\n",
      "\n",
      "    accuracy                           0.97      3458\n",
      "   macro avg       0.97      0.97      0.97      3458\n",
      "weighted avg       0.97      0.97      0.97      3458\n",
      "\n"
     ]
    }
   ],
   "source": [
    "import time\n",
    "from sklearn import svm\n",
    "from sklearn.metrics import accuracy_score\n",
    "from sklearn.model_selection import StratifiedKFold, cross_val_score\n",
    "\n",
    "# Perform classification with SVM, kernel=linear\n",
    "classifier_linear = svm.SVC(kernel='linear')\n",
    "classifier_linear.fit(x_train, Y_train)\n",
    "prediction_linear = classifier_linear.predict(x_test)\n",
    "\n",
    "# results\n",
    "print(f'Accuracy - {accuracy_score(prediction_linear, Y_test) * 100}\\n')\n",
    "print(classification_report(Y_test, prediction_linear))"
   ]
  },
  {
   "cell_type": "markdown",
   "id": "411e5f5c",
   "metadata": {},
   "source": [
    "# SVM (Kernel = RBF)"
   ]
  },
  {
   "cell_type": "code",
   "execution_count": 40,
   "id": "6ed2ee5b",
   "metadata": {},
   "outputs": [
    {
     "name": "stdout",
     "output_type": "stream",
     "text": [
      "Accuracy - 98.14921920185078\n",
      "\n",
      "              precision    recall  f1-score   support\n",
      "\n",
      "          -1       0.99      0.96      0.98      1164\n",
      "           0       1.00      0.99      1.00      1137\n",
      "           1       0.95      0.99      0.97      1157\n",
      "\n",
      "    accuracy                           0.98      3458\n",
      "   macro avg       0.98      0.98      0.98      3458\n",
      "weighted avg       0.98      0.98      0.98      3458\n",
      "\n"
     ]
    }
   ],
   "source": [
    "# Perform classification with SVM, kernel=linear\n",
    "classifier_rbf = svm.SVC()\n",
    "classifier_rbf.fit(x_train, Y_train)\n",
    "prediction_rbf = classifier_rbf.predict(x_test)\n",
    "\n",
    "# results\n",
    "print(f'Accuracy - {accuracy_score(prediction_rbf, Y_test) * 100}\\n')\n",
    "print(classification_report(Y_test, prediction_rbf))"
   ]
  },
  {
   "cell_type": "markdown",
   "id": "7e66a250",
   "metadata": {},
   "source": [
    "# SVM (Linear Kernel) - Tuning Phase"
   ]
  },
  {
   "cell_type": "code",
   "execution_count": 41,
   "id": "58918d86",
   "metadata": {},
   "outputs": [
    {
     "data": {
      "text/plain": [
       "0.9658762290341237"
      ]
     },
     "execution_count": 41,
     "metadata": {},
     "output_type": "execute_result"
    }
   ],
   "source": [
    "# fit the training dataset on the classifier\n",
    "SVM = svm.SVC(C=1.0, kernel='linear', degree=3, gamma='auto')\n",
    "SVM.fit(x_train,Y_train)\n",
    "# predict the labels on validation dataset\n",
    "predictions_SVM = SVM.predict(x_test)\n",
    "accuracy_score(predictions_SVM, Y_test)"
   ]
  },
  {
   "cell_type": "markdown",
   "id": "104050d3",
   "metadata": {},
   "source": [
    "# Logistic Regression"
   ]
  },
  {
   "cell_type": "code",
   "execution_count": 42,
   "id": "632616c5",
   "metadata": {},
   "outputs": [
    {
     "name": "stderr",
     "output_type": "stream",
     "text": [
      "/Users/tusharraj/opt/anaconda3/lib/python3.9/site-packages/sklearn/linear_model/_logistic.py:814: ConvergenceWarning: lbfgs failed to converge (status=1):\n",
      "STOP: TOTAL NO. of ITERATIONS REACHED LIMIT.\n",
      "\n",
      "Increase the number of iterations (max_iter) or scale the data as shown in:\n",
      "    https://scikit-learn.org/stable/modules/preprocessing.html\n",
      "Please also refer to the documentation for alternative solver options:\n",
      "    https://scikit-learn.org/stable/modules/linear_model.html#logistic-regression\n",
      "  n_iter_i = _check_optimize_result(\n"
     ]
    },
    {
     "data": {
      "text/plain": [
       "LogisticRegression(multi_class='multinomial', random_state=0)"
      ]
     },
     "execution_count": 42,
     "metadata": {},
     "output_type": "execute_result"
    }
   ],
   "source": [
    "# Import the logistic regression model from sklearn \n",
    "from sklearn.linear_model import LogisticRegression\n",
    "\n",
    "# Define the model\n",
    "model = LogisticRegression(random_state=0, solver='lbfgs', multi_class='multinomial')\n",
    "# Train model\n",
    "model.fit(x_train, Y_train)"
   ]
  },
  {
   "cell_type": "code",
   "execution_count": 43,
   "id": "27f00fc4",
   "metadata": {},
   "outputs": [
    {
     "name": "stdout",
     "output_type": "stream",
     "text": [
      "Accuracy - 95.2862926547137\n",
      "\n",
      "              precision    recall  f1-score   support\n",
      "\n",
      "          -1       0.94      0.96      0.95      1164\n",
      "           0       0.95      1.00      0.97      1137\n",
      "           1       0.97      0.90      0.93      1157\n",
      "\n",
      "    accuracy                           0.95      3458\n",
      "   macro avg       0.95      0.95      0.95      3458\n",
      "weighted avg       0.95      0.95      0.95      3458\n",
      "\n"
     ]
    }
   ],
   "source": [
    "# predict the data\n",
    "y_pred = model.predict(x_test)\n",
    "\n",
    "print(f'Accuracy - {accuracy_score(y_pred, Y_test) * 100}\\n')\n",
    "print(classification_report(Y_test, y_pred))"
   ]
  },
  {
   "cell_type": "code",
   "execution_count": 44,
   "id": "69feac95",
   "metadata": {},
   "outputs": [
    {
     "data": {
      "text/plain": [
       "<sklearn.metrics._plot.confusion_matrix.ConfusionMatrixDisplay at 0x7fcd6a138b80>"
      ]
     },
     "execution_count": 44,
     "metadata": {},
     "output_type": "execute_result"
    },
    {
     "data": {
      "image/png": "[encoded data removed]",
      "text/plain": [
       "<Figure size 640x480 with 2 Axes>"
      ]
     },
     "metadata": {},
     "output_type": "display_data"
    }
   ],
   "source": [
    "from sklearn.metrics import confusion_matrix, ConfusionMatrixDisplay\n",
    "\n",
    "#Ploting the confusion matrix\n",
    "cm = confusion_matrix(Y_test, y_pred, labels=model.classes_)\n",
    "\n",
    "cm_display = ConfusionMatrixDisplay(confusion_matrix = cm, display_labels=model.classes_)\n",
    "\n",
    "cm_display.plot()"
   ]
  },
  {
   "cell_type": "markdown",
   "id": "c386456f",
   "metadata": {},
   "source": [
    "# Random Forest Classifier"
   ]
  },
  {
   "cell_type": "code",
   "execution_count": 45,
   "id": "8f997d3e",
   "metadata": {},
   "outputs": [
    {
     "name": "stdout",
     "output_type": "stream",
     "text": [
      "Accuracy - 96.79005205320995\n",
      "\n",
      "              precision    recall  f1-score   support\n",
      "\n",
      "          -1       0.95      0.98      0.96      1164\n",
      "           0       0.97      1.00      0.98      1137\n",
      "           1       0.99      0.93      0.96      1157\n",
      "\n",
      "    accuracy                           0.97      3458\n",
      "   macro avg       0.97      0.97      0.97      3458\n",
      "weighted avg       0.97      0.97      0.97      3458\n",
      "\n"
     ]
    }
   ],
   "source": [
    "from sklearn.ensemble import RandomForestClassifier\n",
    "\n",
    "# Initialize a Random Forest classifier with 500 trees\n",
    "forest = RandomForestClassifier(random_state=42)\n",
    "# Train the model\n",
    "forest = forest.fit(x_train, Y_train)\n",
    "y_pred = forest.predict(x_test)\n",
    "print(f'Accuracy - {accuracy_score(y_pred, Y_test) * 100}\\n')\n",
    "print(classification_report(Y_test, y_pred))"
   ]
  },
  {
   "cell_type": "code",
   "execution_count": 46,
   "id": "3b29611b",
   "metadata": {},
   "outputs": [
    {
     "data": {
      "text/plain": [
       "<sklearn.metrics._plot.confusion_matrix.ConfusionMatrixDisplay at 0x7fcd490fd7f0>"
      ]
     },
     "execution_count": 46,
     "metadata": {},
     "output_type": "execute_result"
    },
    {
     "data": {
      "image/png": "[encoded data removed]",
      "text/plain": [
       "<Figure size 640x480 with 2 Axes>"
      ]
     },
     "metadata": {},
     "output_type": "display_data"
    }
   ],
   "source": [
    "#Ploting the confusion matrix\n",
    "cm = confusion_matrix(Y_test, y_pred, labels=forest.classes_)\n",
    "\n",
    "cm_display = ConfusionMatrixDisplay(confusion_matrix = cm, display_labels=forest.classes_)\n",
    "\n",
    "cm_display.plot()"
   ]
  },
  {
   "cell_type": "markdown",
   "id": "ac7e92de",
   "metadata": {},
   "source": [
    "# LSTM"
   ]
  },
  {
   "cell_type": "code",
   "execution_count": 47,
   "id": "e0c0bb5e",
   "metadata": {},
   "outputs": [
    {
     "name": "stdout",
     "output_type": "stream",
     "text": [
      "Found 7441 unique tokens.\n"
     ]
    }
   ],
   "source": [
    "from keras.preprocessing.text import Tokenizer\n",
    "from keras.utils import pad_sequences\n",
    "from keras.utils.np_utils import to_categorical\n",
    "\n",
    "n_most_common_words = 250\n",
    "max_len = 250\n",
    "tokenizer = Tokenizer(num_words=n_most_common_words)\n",
    "tokenizer.fit_on_texts(newdf['review'].values)\n",
    "sequences = tokenizer.texts_to_sequences(newdf['review'].values)\n",
    "word_index = tokenizer.word_index\n",
    "print('Found %s unique tokens.' % len(word_index))\n",
    "\n",
    "X = pad_sequences(sequences, maxlen=max_len)\n",
    "labels = to_categorical(newdf['label'], num_classes=3)"
   ]
  },
  {
   "cell_type": "code",
   "execution_count": 48,
   "id": "f9fd9f32",
   "metadata": {},
   "outputs": [],
   "source": [
    "smote = SMOTE(random_state=42)\n",
    "X_smote, y_smote = smote.fit_resample(X, labels)\n",
    "X_train, X_test, y_train, y_test = train_test_split(X_smote, y_smote, test_size=0.25, random_state=42, shuffle=True)"
   ]
  },
  {
   "cell_type": "code",
   "execution_count": 49,
   "id": "cd64fe50",
   "metadata": {},
   "outputs": [
    {
     "name": "stdout",
     "output_type": "stream",
     "text": [
      "Model: \"sequential\"\n",
      "_________________________________________________________________\n",
      " Layer (type)                Output Shape              Param #   \n",
      "=================================================================\n",
      " embedding (Embedding)       (None, 250, 130)          1040000   \n",
      "                                                                 \n",
      " spatial_dropout1d (SpatialD  (None, 250, 130)         0         \n",
      " ropout1D)                                                       \n",
      "                                                                 \n",
      " lstm (LSTM)                 (None, 64)                49920     \n",
      "                                                                 \n",
      " dense (Dense)               (None, 3)                 195       \n",
      "                                                                 \n",
      "=================================================================\n",
      "Total params: 1,090,115\n",
      "Trainable params: 1,090,115\n",
      "Non-trainable params: 0\n",
      "_________________________________________________________________\n"
     ]
    }
   ],
   "source": [
    "from tensorflow import keras\n",
    "\n",
    "# model initialization\n",
    "lstm_model = keras.Sequential([\n",
    "    keras.layers.Embedding(8000, 130, input_length=X.shape[1]),\n",
    "    keras.layers.SpatialDropout1D(0.7),\n",
    "    keras.layers.LSTM(64, dropout=0.7, recurrent_dropout=0.7),\n",
    "    keras.layers.Dense(3, activation='softmax')\n",
    "])\n",
    "# compile model\n",
    "lstm_model.compile(loss='categorical_crossentropy', optimizer='adam', metrics=['accuracy'])\n",
    "# model summary\n",
    "lstm_model.summary()"
   ]
  },
  {
   "cell_type": "code",
   "execution_count": 50,
   "id": "cd14ff26",
   "metadata": {},
   "outputs": [
    {
     "name": "stdout",
     "output_type": "stream",
     "text": [
      "Epoch 1/10\n",
      "33/33 [==============================] - 28s 769ms/step - loss: 1.0497 - accuracy: 0.4522 - val_loss: 1.0036 - val_accuracy: 0.4631\n",
      "Epoch 2/10\n",
      "33/33 [==============================] - 26s 784ms/step - loss: 0.9806 - accuracy: 0.5068 - val_loss: 0.9540 - val_accuracy: 0.5349\n",
      "Epoch 3/10\n",
      "33/33 [==============================] - 27s 807ms/step - loss: 0.9313 - accuracy: 0.5549 - val_loss: 0.9050 - val_accuracy: 0.5836\n",
      "Epoch 4/10\n",
      "33/33 [==============================] - 25s 748ms/step - loss: 0.8972 - accuracy: 0.5766 - val_loss: 0.8852 - val_accuracy: 0.5836\n",
      "Epoch 5/10\n",
      "33/33 [==============================] - 27s 814ms/step - loss: 0.8806 - accuracy: 0.5900 - val_loss: 0.8771 - val_accuracy: 0.5942\n",
      "Epoch 6/10\n",
      "33/33 [==============================] - 25s 745ms/step - loss: 0.8715 - accuracy: 0.5938 - val_loss: 0.8688 - val_accuracy: 0.5942\n",
      "Epoch 7/10\n",
      "33/33 [==============================] - 24s 734ms/step - loss: 0.8587 - accuracy: 0.5995 - val_loss: 0.8675 - val_accuracy: 0.5971\n",
      "Epoch 8/10\n",
      "33/33 [==============================] - 25s 755ms/step - loss: 0.8489 - accuracy: 0.6056 - val_loss: 0.8641 - val_accuracy: 0.5966\n",
      "Epoch 9/10\n",
      "33/33 [==============================] - 27s 799ms/step - loss: 0.8449 - accuracy: 0.6056 - val_loss: 0.8599 - val_accuracy: 0.6005\n",
      "Epoch 10/10\n",
      "33/33 [==============================] - 25s 767ms/step - loss: 0.8480 - accuracy: 0.6102 - val_loss: 0.8539 - val_accuracy: 0.6096\n"
     ]
    }
   ],
   "source": [
    "from keras.callbacks import EarlyStopping\n",
    "\n",
    "num_epochs = 10\n",
    "batch_size = 256\n",
    "history = lstm_model.fit(X_train, y_train, epochs=num_epochs, batch_size=batch_size, validation_split=0.2,\n",
    "          callbacks=[EarlyStopping(monitor='val_loss', patience=7, min_delta=0.0001)])"
   ]
  },
  {
   "cell_type": "code",
   "execution_count": 51,
   "id": "606aded6",
   "metadata": {},
   "outputs": [
    {
     "name": "stdout",
     "output_type": "stream",
     "text": [
      "325/325 [==============================] - 18s 56ms/step - loss: 0.8109 - accuracy: 0.6370\n",
      "109/109 [==============================] - 4s 38ms/step - loss: 0.8282 - accuracy: 0.6180\n",
      "Train: 0.637, Test: 0.618\n"
     ]
    },
    {
     "data": {
      "image/png": "[encoded data removed]",
      "text/plain": [
       "<Figure size 640x480 with 2 Axes>"
      ]
     },
     "metadata": {},
     "output_type": "display_data"
    }
   ],
   "source": [
    "# evaluate the model\n",
    "_, train_acc = lstm_model.evaluate(X_train, y_train)\n",
    "_, test_acc = lstm_model.evaluate(X_test, y_test)\n",
    "print('Train: %.3f, Test: %.3f' % (train_acc, test_acc))\n",
    "# plot loss during training\n",
    "plt.subplot(211)\n",
    "plt.title('Loss')\n",
    "plt.plot(history.history['loss'], label='train')\n",
    "plt.plot(history.history['val_loss'], label='test')\n",
    "plt.legend()\n",
    "# plot accuracy during training\n",
    "plt.subplot(212)\n",
    "plt.title('Accuracy')\n",
    "plt.plot(history.history['accuracy'], label='train')\n",
    "plt.plot(history.history['val_accuracy'], label='test')\n",
    "plt.legend()\n",
    "plt.show()"
   ]
  },
  {
   "cell_type": "code",
   "execution_count": 53,
   "id": "89f1fe7a",
   "metadata": {},
   "outputs": [
    {
     "name": "stdout",
     "output_type": "stream",
     "text": [
      "109/109 [==============================] - 4s 37ms/step\n"
     ]
    },
    {
     "data": {
      "image/png": "[encoded data removed]",
      "text/plain": [
       "<Figure size 600x600 with 2 Axes>"
      ]
     },
     "metadata": {},
     "output_type": "display_data"
    }
   ],
   "source": [
    "import numpy as np\n",
    "import tensorflow as tf\n",
    "import seaborn as sns\n",
    "\n",
    "predict = lstm_model.predict(X_test)\n",
    "predict_labels = np.argmax(predict, axis=1)\n",
    "confusion_matrix = tf.math.confusion_matrix(\n",
    "    y_test.argmax(axis=1),  # Assuming y_test is already in one-hot encoded form\n",
    "    predict_labels\n",
    ").numpy()\n",
    "con_mat_norm_lstm = np.around(confusion_matrix.astype('float') / confusion_matrix.sum(axis=1)[:, np.newaxis], decimals=2)\n",
    " \n",
    "con_mat_df_lstm = pd.DataFrame(con_mat_norm_lstm,\n",
    "                     index = [-1, 0, 1], \n",
    "                     columns = [-1, 0, 1])\n",
    "\n",
    "figure = plt.figure(figsize=(6, 6))\n",
    "sns.heatmap(con_mat_df_lstm, annot=True,cmap=plt.cm.Blues)\n",
    "plt.tight_layout()\n",
    "plt.ylabel('True label')\n",
    "plt.xlabel('Predicted label')\n",
    "plt.show()"
   ]
  },
  {
   "cell_type": "code",
   "execution_count": 54,
   "id": "80d0b9c7",
   "metadata": {},
   "outputs": [
    {
     "data": {
      "text/plain": [
       "array([[870, 134, 163],\n",
       "       [198, 744, 215],\n",
       "       [373, 238, 523]], dtype=int32)"
      ]
     },
     "execution_count": 54,
     "metadata": {},
     "output_type": "execute_result"
    }
   ],
   "source": [
    "confusion_matrix"
   ]
  },
  {
   "cell_type": "markdown",
   "id": "0fb4269b",
   "metadata": {},
   "source": [
    "# GRU (Gated Recurrent Unit)"
   ]
  },
  {
   "cell_type": "code",
   "execution_count": null,
   "id": "a8dfed8c",
   "metadata": {},
   "outputs": [],
   "source": [
    "import tensorflow as tf\n",
    "from tensorflow.keras.layers import GRU, Embedding, Bidirectional\n",
    "\n",
    "top_words = 8000  # number of words to consider as features\n",
    "max_words = 130  # cut texts after this number of words (among top max_features most common words)\n",
    "\n",
    "gru_model = keras.Sequential()\n",
    "\n",
    "# encoder\n",
    "gru_model.add(Embedding(top_words, max_words, input_length=X.shape[1]))\n",
    "gru_model.add(GRU(100))\n",
    "gru_model.add(tf.keras.layers.Dense(3, activation='softmax'))\n",
    "\n",
    "gru_model.compile(optimizer='adam', loss='categorical_crossentropy', metrics=['accuracy'])\n",
    "\n",
    "gru_model.summary()"
   ]
  },
  {
   "cell_type": "code",
   "execution_count": null,
   "id": "e85da931",
   "metadata": {},
   "outputs": [],
   "source": [
    "num_epochs = 10\n",
    "batch_size = 256\n",
    "gru_history = gru_model.fit(X_train, y_train, epochs=num_epochs, batch_size=batch_size, validation_split=0.2,\n",
    "          callbacks=[EarlyStopping(monitor='val_loss', patience=7, min_delta=0.0001)])"
   ]
  },
  {
   "cell_type": "code",
   "execution_count": null,
   "id": "d5dcd06a",
   "metadata": {},
   "outputs": [],
   "source": [
    "# evaluate the model\n",
    "_, train_acc = gru_model.evaluate(X_train, y_train)\n",
    "_, test_acc = gru_model.evaluate(X_test, y_test)\n",
    "print('Train: %.3f, Test: %.3f' % (train_acc, test_acc))\n",
    "# plot loss during training\n",
    "plt.subplot(311)\n",
    "plt.title('Loss')\n",
    "plt.plot(gru_history.history['loss'], label='train')\n",
    "plt.plot(gru_history.history['val_loss'], label='test')\n",
    "plt.legend()\n",
    "# plot accuracy during training\n",
    "plt.subplot(312)\n",
    "plt.title('Accuracy')\n",
    "plt.plot(gru_history.history['accuracy'], label='train')\n",
    "plt.plot(gru_history.history['val_accuracy'], label='test')\n",
    "plt.legend()\n",
    "plt.show()"
   ]
  },
  {
   "cell_type": "code",
   "execution_count": null,
   "id": "01a2a1b9",
   "metadata": {},
   "outputs": [],
   "source": [
    "predict = gru_model.predict(X_test)\n",
    "predict_labels = np.argmax(predict, axis=1)"
   ]
  },
  {
   "cell_type": "code",
   "execution_count": null,
   "id": "14566028",
   "metadata": {},
   "outputs": [],
   "source": [
    "predict_labels"
   ]
  },
  {
   "cell_type": "code",
   "execution_count": null,
   "id": "65ec44bf",
   "metadata": {},
   "outputs": [],
   "source": [
    "confusion_matrix = tf.math.confusion_matrix(\n",
    "    y_test.argmax(axis=1),  # Assuming y_test is already in one-hot encoded form\n",
    "    predict_labels\n",
    ").numpy()"
   ]
  },
  {
   "cell_type": "code",
   "execution_count": null,
   "id": "88a19251",
   "metadata": {},
   "outputs": [],
   "source": [
    "confusion_matrix"
   ]
  },
  {
   "cell_type": "code",
   "execution_count": null,
   "id": "3d6267b4",
   "metadata": {},
   "outputs": [],
   "source": [
    "import seaborn as sns\n",
    "\n",
    "con_mat_norm = np.around(confusion_matrix.astype('float') / confusion_matrix.sum(axis=1)[:, np.newaxis], decimals=2)\n",
    " \n",
    "con_mat_df = pd.DataFrame(con_mat_norm,\n",
    "                     index = [-1, 0, 1], \n",
    "                     columns = [-1, 0, 1])\n",
    "\n",
    "figure = plt.figure(figsize=(6, 6))\n",
    "sns.heatmap(con_mat_df, annot=True,cmap=plt.cm.Blues)\n",
    "plt.tight_layout()\n",
    "plt.ylabel('True label')\n",
    "plt.xlabel('Predicted label')\n",
    "plt.show()"
   ]
  }
 ],
 "metadata": {
  "kernelspec": {
   "display_name": "Python 3 (ipykernel)",
   "language": "python",
   "name": "python3"
  },
  "language_info": {
   "codemirror_mode": {
    "name": "ipython",
    "version": 3
   },
   "file_extension": ".py",
   "mimetype": "text/x-python",
   "name": "python",
   "nbconvert_exporter": "python",
   "pygments_lexer": "ipython3",
   "version": "3.9.13"
  }
 },
 "nbformat": 4,
 "nbformat_minor": 5
}
